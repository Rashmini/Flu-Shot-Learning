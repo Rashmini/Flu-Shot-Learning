{
  "nbformat": 4,
  "nbformat_minor": 0,
  "metadata": {
    "accelerator": "GPU",
    "colab": {
      "name": "flu_shot_MLP_XGB.ipynb",
      "provenance": []
    },
    "kernelspec": {
      "display_name": "Python 3",
      "language": "python",
      "name": "python3"
    },
    "language_info": {
      "codemirror_mode": {
        "name": "ipython",
        "version": 3
      },
      "file_extension": ".py",
      "mimetype": "text/x-python",
      "name": "python",
      "nbconvert_exporter": "python",
      "pygments_lexer": "ipython3",
      "version": "3.7.3"
    }
  },
  "cells": [
    {
      "cell_type": "code",
      "metadata": {
        "colab_type": "code",
        "id": "Kaql_0ZtRtbB",
        "colab": {}
      },
      "source": [
        "from google.colab import drive\n",
        "drive.mount('/content/drive/')"
      ],
      "execution_count": null,
      "outputs": []
    },
    {
      "cell_type": "code",
      "metadata": {
        "colab_type": "code",
        "id": "3A5O6rANuZ7C",
        "colab": {
          "base_uri": "https://localhost:8080/",
          "height": 34
        },
        "outputId": "eb68fde9-8a12-41a9-fa62-4a27c72eb46f"
      },
      "source": [
        "cd \"/content/drive/My Drive/DM\""
      ],
      "execution_count": 69,
      "outputs": [
        {
          "output_type": "stream",
          "text": [
            "/content/drive/My Drive/DM\n"
          ],
          "name": "stdout"
        }
      ]
    },
    {
      "cell_type": "code",
      "metadata": {
        "colab_type": "code",
        "id": "Ij1GRDjHdCQD",
        "colab": {}
      },
      "source": [
        "from pathlib import Path\n",
        "\n",
        "import numpy as np\n",
        "import pandas as pd\n",
        "\n",
        "pd.set_option(\"display.max_columns\", 100)"
      ],
      "execution_count": 71,
      "outputs": []
    },
    {
      "cell_type": "code",
      "metadata": {
        "colab_type": "code",
        "id": "RwpJRPwAdWKa",
        "colab": {}
      },
      "source": [
        "DATA_PATH = Path.cwd().parent / \"data\" / \"final\" / \"public\""
      ],
      "execution_count": 72,
      "outputs": []
    },
    {
      "cell_type": "code",
      "metadata": {
        "colab_type": "code",
        "id": "uESuwouudfLz",
        "colab": {}
      },
      "source": [
        "features_df = pd.read_csv(\n",
        "   \"training_set_features.csv\", \n",
        "    index_col=\"respondent_id\"\n",
        ")\n",
        "labels_df = pd.read_csv(\n",
        "    \"training_set_labels.csv\", \n",
        "    index_col=\"respondent_id\"\n",
        ")"
      ],
      "execution_count": 73,
      "outputs": []
    },
    {
      "cell_type": "code",
      "metadata": {
        "colab_type": "code",
        "id": "3wsuiEIfnmme",
        "colab": {}
      },
      "source": [
        "from sklearn.preprocessing import StandardScaler\n",
        "from sklearn.impute import SimpleImputer\n",
        "from sklearn.compose import ColumnTransformer\n",
        "\n",
        "from sklearn.linear_model import LogisticRegression\n",
        "from sklearn.multioutput import MultiOutputClassifier\n",
        "\n",
        "from sklearn.pipeline import Pipeline\n",
        "\n",
        "from sklearn.model_selection import train_test_split\n",
        "\n",
        "from sklearn.metrics import roc_curve, roc_auc_score\n",
        "\n",
        "from sklearn.preprocessing import OneHotEncoder\n",
        "from xgboost.sklearn import XGBClassifier\n",
        "from sklearn.neural_network import MLPClassifier\n",
        "RANDOM_SEED = 8    # Set a random seed for reproducibility!\n",
        "\n",
        "\n",
        "from sklearn.preprocessing import OneHotEncoder\n",
        "from xgboost.sklearn import XGBClassifier\n",
        "from sklearn.naive_bayes import GaussianNB\n",
        "from sklearn.neighbors import KNeighborsClassifier\n",
        "\n",
        "from sklearn.ensemble import RandomForestClassifier\n",
        "from sklearn.ensemble import GradientBoostingClassifier\n",
        "from sklearn.svm import SVC\n",
        "\n",
        "from sklearn.ensemble import GradientBoostingClassifier, RandomForestClassifier, BaggingClassifier\n",
        "from sklearn.ensemble import StackingClassifier\n",
        "\n",
        "from sklearn.preprocessing import FunctionTransformer\n",
        "\n",
        "from numpy import nan\n",
        "import copy"
      ],
      "execution_count": 74,
      "outputs": []
    },
    {
      "cell_type": "code",
      "metadata": {
        "colab_type": "code",
        "id": "hyaN7ShGoWMO",
        "colab": {}
      },
      "source": [
        "numeric_cols = features_df.columns[features_df.dtypes != \"object\"].values\n",
        "non_numeric_cols = features_df.columns[features_df.dtypes == 'object'].values"
      ],
      "execution_count": 75,
      "outputs": []
    },
    {
      "cell_type": "code",
      "metadata": {
        "id": "a_082ES8_fzf",
        "colab_type": "code",
        "colab": {
          "base_uri": "https://localhost:8080/",
          "height": 34
        },
        "outputId": "3a9d0c31-c442-4aa8-f5a0-665f14c0fb7f"
      },
      "source": [
        "# create age groups numeric values\n",
        "\n",
        "seperate_processing_cols = [\"age_group\", \"income_poverty\"]\n",
        "#seperate_processing_cols = []\n",
        "\n",
        "age_mean_map = {'18 - 34 Years': 26,\n",
        "                '35 - 44 Years': 40,\n",
        "                '45 - 54 Years': 50,\n",
        "                '55 - 64 Years': 60,\n",
        "                '65+ Years': 70, \n",
        "                }\n",
        "\n",
        "income_map = {'Below Poverty': 1,\n",
        "              '<= $75,000, Above Poverty': 2,\n",
        "              '> $75,000':3\n",
        "             }\n",
        "\n",
        "full_map = {\"age_group\":age_mean_map,\n",
        "            \"income_poverty\":income_map}\n",
        "\n",
        "def map_to_numeric(x, mapping):\n",
        "    if mapping.get(x) == None:\n",
        "        return nan\n",
        "    else:\n",
        "        return mapping.get(x)\n",
        "\n",
        "def convert(df):\n",
        "    new_df = copy.deepcopy(df)\n",
        "    for col in seperate_processing_cols:\n",
        "        new_df[col] = df[col].apply(lambda x: map_to_numeric(x, full_map.get(col))) \n",
        "    return new_df\n",
        "\n",
        "numeric_to_cat_transofrmer = FunctionTransformer(convert)   \n",
        "convert(features_df)[\"income_poverty\"].unique()\n",
        "#features_df\n"
      ],
      "execution_count": 76,
      "outputs": [
        {
          "output_type": "execute_result",
          "data": {
            "text/plain": [
              "array([ 1.,  2.,  3., nan])"
            ]
          },
          "metadata": {
            "tags": []
          },
          "execution_count": 76
        }
      ]
    },
    {
      "cell_type": "code",
      "metadata": {
        "colab_type": "code",
        "id": "TAAlyqsxpcP5",
        "colab": {}
      },
      "source": [
        "# chain preprocessing into a Pipeline object\n",
        "# each step is a tuple of (name you chose, sklearn transformer)\n",
        "high_missing_cols = []\n",
        "non_numeric_cols = [x for x in non_numeric_cols if (x not in high_missing_cols and x not in seperate_processing_cols)]\n",
        "numeric_cols = [x for x in numeric_cols if (x not in high_missing_cols and x not in seperate_processing_cols)]\n",
        "# chain preprocessing into a Pipeline object\n",
        "# each step is a tuple of (name you chose, sklearn transformer)\n",
        "numeric_to_cat_preprocessing_steps = Pipeline([\n",
        "    ('convert_to_cat', numeric_to_cat_transofrmer),\n",
        "    ('simple_imputer', SimpleImputer(strategy='mean')),\n",
        "    ('standard_scaler', StandardScaler()),\n",
        "    ])\n",
        "\n",
        "numeric_preprocessing_steps = Pipeline(steps=[\n",
        "    ('standard_scaler', StandardScaler()),\n",
        "    ('imputer', SimpleImputer(strategy='mean'))])\n",
        "non_numeric_preprocessing_steps = Pipeline(steps=[\n",
        "    ('imputer', SimpleImputer(strategy='constant', fill_value='missing')),\n",
        "    ('onehot', OneHotEncoder(handle_unknown='ignore'))])\n",
        "# create the preprocessor stage of final pipeline\n",
        "# each entry in the transformer list is a tuple of\n",
        "# (name you choose, sklearn transformer, list of columns)\n",
        "preprocessor = ColumnTransformer(\n",
        "    transformers = [\n",
        "        (\"numeric\", numeric_preprocessing_steps, numeric_cols),\n",
        "        (\"non_numeric\",non_numeric_preprocessing_steps,non_numeric_cols),\n",
        "        (\"numeric_to_cat\", numeric_to_cat_preprocessing_steps, seperate_processing_cols)\n",
        "    ],\n",
        "    remainder = \"drop\"\n",
        ")"
      ],
      "execution_count": 77,
      "outputs": []
    },
    {
      "cell_type": "code",
      "metadata": {
        "id": "ZB525P7c_fzm",
        "colab_type": "code",
        "colab": {}
      },
      "source": [
        "est_mlp = MLPClassifier(hidden_layer_sizes=(200,100,), learning_rate='invscaling', learning_rate_init=0.01,\n",
        "                          power_t=0.5, max_iter=500, shuffle=True, tol=0.0001, \n",
        "                          early_stopping=True, validation_fraction=0.1, n_iter_no_change=10, max_fun=15000,\n",
        "                         random_state=RANDOM_SEED)\n",
        "est_xgb = XGBClassifier(learning_rate =0.05, n_estimators=350, max_depth=5, min_child_weight=2, gamma=0.2,\n",
        "                             subsample=0.8,colsample_bytree=0.4,reg_alpha=0.1,objective= 'binary:logistic',nthread=4,\n",
        "                              scale_pos_weight=1 ,reg_lambda = 10 , random_state = 42)\n",
        "est_gb = GradientBoostingClassifier(random_state=8, n_estimators=250)\n",
        "est_rn = RandomForestClassifier(max_depth=10, bootstrap=True, n_estimators=200)\n",
        "est_svc = SVC()\n",
        "est_nb = GaussianNB()\n",
        "est_kn = KNeighborsClassifier()\n",
        "\n",
        "estimators_stacked = [('xbg', est_xgb),\n",
        "              ('mlp', est_mlp),\n",
        "              #('gb', est_gb),\n",
        "              #('rn', est_rn)\n",
        "             ]\n",
        "\n",
        "stacked_estimator =  StackingClassifier(estimators=estimators_stacked,\n",
        "                                    final_estimator=LogisticRegression(),\n",
        "                                    stack_method='predict_proba'\n",
        "                                  )"
      ],
      "execution_count": 78,
      "outputs": []
    },
    {
      "cell_type": "code",
      "metadata": {
        "colab_type": "code",
        "id": "UTpxbC5QqGY4",
        "colab": {}
      },
      "source": [
        "estimators = MultiOutputClassifier(\n",
        "    estimator = stacked_estimator\n",
        ")"
      ],
      "execution_count": 79,
      "outputs": []
    },
    {
      "cell_type": "code",
      "metadata": {
        "colab_type": "code",
        "id": "hgrMsRN4qVZR",
        "colab": {}
      },
      "source": [
        "full_pipeline = Pipeline([\n",
        "    (\"preprocessor\", preprocessor),\n",
        "    (\"estimators\", estimators),\n",
        "])"
      ],
      "execution_count": 80,
      "outputs": []
    },
    {
      "cell_type": "code",
      "metadata": {
        "colab_type": "code",
        "id": "NQ5PYrCksRW6",
        "colab": {}
      },
      "source": [
        "X_train, X_eval, y_train, y_eval = train_test_split(\n",
        "    features_df,\n",
        "    labels_df,\n",
        "    test_size=0.33,\n",
        "    shuffle=True,\n",
        "    stratify=labels_df,\n",
        "    random_state=RANDOM_SEED\n",
        ")"
      ],
      "execution_count": 81,
      "outputs": []
    },
    {
      "cell_type": "code",
      "metadata": {
        "colab_type": "code",
        "id": "7poq2MXIsfA2",
        "colab": {
          "base_uri": "https://localhost:8080/",
          "height": 52
        },
        "outputId": "be408308-a1f1-44d5-af9f-031cbbbf9153"
      },
      "source": [
        "%%time\n",
        "\n",
        "# Train model\n",
        "full_pipeline.fit(X_train, y_train)\n",
        "\n",
        "# Predict on evaluation set\n",
        "# This competition wants probabilities, not labels\n",
        "preds = full_pipeline.predict_proba(X_eval)\n",
        "preds"
      ],
      "execution_count": 82,
      "outputs": [
        {
          "output_type": "stream",
          "text": [
            "CPU times: user 4min 32s, sys: 39.8 s, total: 5min 12s\n",
            "Wall time: 2min 46s\n"
          ],
          "name": "stdout"
        }
      ]
    },
    {
      "cell_type": "code",
      "metadata": {
        "colab_type": "code",
        "id": "_cTprIkSslAr",
        "colab": {
          "base_uri": "https://localhost:8080/",
          "height": 52
        },
        "outputId": "08c0b283-1c0e-4e28-87fb-82bc790a13c4"
      },
      "source": [
        "print(\"test_probas[0].shape\", preds[0].shape)\n",
        "print(\"test_probas[1].shape\", preds[1].shape)"
      ],
      "execution_count": 83,
      "outputs": [
        {
          "output_type": "stream",
          "text": [
            "test_probas[0].shape (8814, 2)\n",
            "test_probas[1].shape (8814, 2)\n"
          ],
          "name": "stdout"
        }
      ]
    },
    {
      "cell_type": "code",
      "metadata": {
        "colab_type": "code",
        "id": "1inNDPPNuyvn",
        "colab": {
          "base_uri": "https://localhost:8080/",
          "height": 245
        },
        "outputId": "324ef035-6b5e-44d2-96de-c204d6cbc791"
      },
      "source": [
        "y_preds = pd.DataFrame(\n",
        "    {\n",
        "        \"h1n1_vaccine\": preds[0][:, 1],\n",
        "        \"seasonal_vaccine\": preds[1][:, 1],\n",
        "    },\n",
        "    index = y_eval.index\n",
        ")\n",
        "print(\"y_preds.shape:\", y_preds.shape)\n",
        "y_preds.head()"
      ],
      "execution_count": 84,
      "outputs": [
        {
          "output_type": "stream",
          "text": [
            "y_preds.shape: (8814, 2)\n"
          ],
          "name": "stdout"
        },
        {
          "output_type": "execute_result",
          "data": {
            "text/html": [
              "<div>\n",
              "<style scoped>\n",
              "    .dataframe tbody tr th:only-of-type {\n",
              "        vertical-align: middle;\n",
              "    }\n",
              "\n",
              "    .dataframe tbody tr th {\n",
              "        vertical-align: top;\n",
              "    }\n",
              "\n",
              "    .dataframe thead th {\n",
              "        text-align: right;\n",
              "    }\n",
              "</style>\n",
              "<table border=\"1\" class=\"dataframe\">\n",
              "  <thead>\n",
              "    <tr style=\"text-align: right;\">\n",
              "      <th></th>\n",
              "      <th>h1n1_vaccine</th>\n",
              "      <th>seasonal_vaccine</th>\n",
              "    </tr>\n",
              "    <tr>\n",
              "      <th>respondent_id</th>\n",
              "      <th></th>\n",
              "      <th></th>\n",
              "    </tr>\n",
              "  </thead>\n",
              "  <tbody>\n",
              "    <tr>\n",
              "      <th>3610</th>\n",
              "      <td>0.061461</td>\n",
              "      <td>0.124360</td>\n",
              "    </tr>\n",
              "    <tr>\n",
              "      <th>12424</th>\n",
              "      <td>0.067567</td>\n",
              "      <td>0.092741</td>\n",
              "    </tr>\n",
              "    <tr>\n",
              "      <th>11459</th>\n",
              "      <td>0.057021</td>\n",
              "      <td>0.899610</td>\n",
              "    </tr>\n",
              "    <tr>\n",
              "      <th>11896</th>\n",
              "      <td>0.053468</td>\n",
              "      <td>0.077307</td>\n",
              "    </tr>\n",
              "    <tr>\n",
              "      <th>26524</th>\n",
              "      <td>0.216546</td>\n",
              "      <td>0.586689</td>\n",
              "    </tr>\n",
              "  </tbody>\n",
              "</table>\n",
              "</div>"
            ],
            "text/plain": [
              "               h1n1_vaccine  seasonal_vaccine\n",
              "respondent_id                                \n",
              "3610               0.061461          0.124360\n",
              "12424              0.067567          0.092741\n",
              "11459              0.057021          0.899610\n",
              "11896              0.053468          0.077307\n",
              "26524              0.216546          0.586689"
            ]
          },
          "metadata": {
            "tags": []
          },
          "execution_count": 84
        }
      ]
    },
    {
      "cell_type": "code",
      "metadata": {
        "colab_type": "code",
        "id": "62hcxotGvHgO",
        "colab": {
          "base_uri": "https://localhost:8080/",
          "height": 34
        },
        "outputId": "01925859-5f4f-4102-ee65-80b45b85df5c"
      },
      "source": [
        "roc_auc_score(y_eval, y_preds)"
      ],
      "execution_count": 85,
      "outputs": [
        {
          "output_type": "execute_result",
          "data": {
            "text/plain": [
              "0.8723445115757842"
            ]
          },
          "metadata": {
            "tags": []
          },
          "execution_count": 85
        }
      ]
    },
    {
      "cell_type": "code",
      "metadata": {
        "colab_type": "code",
        "id": "_5ndmcUuvOab",
        "colab": {
          "base_uri": "https://localhost:8080/",
          "height": 52
        },
        "outputId": "6ac6530a-1fc5-4341-847f-c12fe84fefd0"
      },
      "source": [
        "%%time \n",
        "\n",
        "full_pipeline.fit(features_df, labels_df)\n",
        "\n",
        "None   # So we don't print out the whole pipeline representation"
      ],
      "execution_count": 86,
      "outputs": [
        {
          "output_type": "stream",
          "text": [
            "CPU times: user 6min 45s, sys: 57.9 s, total: 7min 43s\n",
            "Wall time: 4min 5s\n"
          ],
          "name": "stdout"
        }
      ]
    },
    {
      "cell_type": "code",
      "metadata": {
        "colab_type": "code",
        "id": "k9MV9SXXvWkI",
        "colab": {}
      },
      "source": [
        "test_features_df = pd.read_csv(\n",
        "    \"test_set_features.csv\", \n",
        "    index_col=\"respondent_id\"\n",
        ")"
      ],
      "execution_count": 87,
      "outputs": []
    },
    {
      "cell_type": "code",
      "metadata": {
        "colab_type": "code",
        "id": "9o8TwOusvkQr",
        "colab": {}
      },
      "source": [
        "test_probas = full_pipeline.predict_proba(test_features_df)"
      ],
      "execution_count": 88,
      "outputs": []
    },
    {
      "cell_type": "code",
      "metadata": {
        "colab_type": "code",
        "id": "S3CdBdLRvwGy",
        "colab": {}
      },
      "source": [
        "submission_df = pd.read_csv(\n",
        "    \"submission_format.csv\", \n",
        "    index_col=\"respondent_id\"\n",
        ")"
      ],
      "execution_count": 90,
      "outputs": []
    },
    {
      "cell_type": "code",
      "metadata": {
        "colab_type": "code",
        "id": "Ucm2gqYqwQ9O",
        "colab": {
          "base_uri": "https://localhost:8080/",
          "height": 227
        },
        "outputId": "9d0c16cf-f55b-4b34-cd37-f67b33a9549a"
      },
      "source": [
        "# Make sure we have the rows in the same order\n",
        "np.testing.assert_array_equal(test_features_df.index.values, \n",
        "                              submission_df.index.values)\n",
        "\n",
        "# Save predictions to submission data frame\n",
        "submission_df[\"h1n1_vaccine\"] = test_probas[0][:, 1]\n",
        "submission_df[\"seasonal_vaccine\"] = test_probas[1][:, 1]\n",
        "\n",
        "submission_df.head()"
      ],
      "execution_count": 91,
      "outputs": [
        {
          "output_type": "execute_result",
          "data": {
            "text/html": [
              "<div>\n",
              "<style scoped>\n",
              "    .dataframe tbody tr th:only-of-type {\n",
              "        vertical-align: middle;\n",
              "    }\n",
              "\n",
              "    .dataframe tbody tr th {\n",
              "        vertical-align: top;\n",
              "    }\n",
              "\n",
              "    .dataframe thead th {\n",
              "        text-align: right;\n",
              "    }\n",
              "</style>\n",
              "<table border=\"1\" class=\"dataframe\">\n",
              "  <thead>\n",
              "    <tr style=\"text-align: right;\">\n",
              "      <th></th>\n",
              "      <th>h1n1_vaccine</th>\n",
              "      <th>seasonal_vaccine</th>\n",
              "    </tr>\n",
              "    <tr>\n",
              "      <th>respondent_id</th>\n",
              "      <th></th>\n",
              "      <th></th>\n",
              "    </tr>\n",
              "  </thead>\n",
              "  <tbody>\n",
              "    <tr>\n",
              "      <th>26707</th>\n",
              "      <td>0.090501</td>\n",
              "      <td>0.232599</td>\n",
              "    </tr>\n",
              "    <tr>\n",
              "      <th>26708</th>\n",
              "      <td>0.057752</td>\n",
              "      <td>0.074792</td>\n",
              "    </tr>\n",
              "    <tr>\n",
              "      <th>26709</th>\n",
              "      <td>0.150042</td>\n",
              "      <td>0.742123</td>\n",
              "    </tr>\n",
              "    <tr>\n",
              "      <th>26710</th>\n",
              "      <td>0.765277</td>\n",
              "      <td>0.879990</td>\n",
              "    </tr>\n",
              "    <tr>\n",
              "      <th>26711</th>\n",
              "      <td>0.236953</td>\n",
              "      <td>0.473138</td>\n",
              "    </tr>\n",
              "  </tbody>\n",
              "</table>\n",
              "</div>"
            ],
            "text/plain": [
              "               h1n1_vaccine  seasonal_vaccine\n",
              "respondent_id                                \n",
              "26707              0.090501          0.232599\n",
              "26708              0.057752          0.074792\n",
              "26709              0.150042          0.742123\n",
              "26710              0.765277          0.879990\n",
              "26711              0.236953          0.473138"
            ]
          },
          "metadata": {
            "tags": []
          },
          "execution_count": 91
        }
      ]
    },
    {
      "cell_type": "code",
      "metadata": {
        "colab_type": "code",
        "id": "wNau5KcawWgD",
        "colab": {}
      },
      "source": [
        "submission_df.to_csv('my_submission18.csv', index=True)"
      ],
      "execution_count": 92,
      "outputs": []
    },
    {
      "cell_type": "code",
      "metadata": {
        "colab_type": "code",
        "id": "QiCL5_tGwaQH",
        "colab": {
          "base_uri": "https://localhost:8080/",
          "height": 194
        },
        "outputId": "5c8e9bc7-053f-45ae-d6f4-ebede26b13b6"
      },
      "source": [
        "!head my_submission18.csv"
      ],
      "execution_count": 93,
      "outputs": [
        {
          "output_type": "stream",
          "text": [
            "respondent_id,h1n1_vaccine,seasonal_vaccine\n",
            "26707,0.09050116886194472,0.23259908434002158\n",
            "26708,0.057752015650933235,0.07479249211388111\n",
            "26709,0.15004209108647118,0.7421232872519187\n",
            "26710,0.7652773409418057,0.8799902116167749\n",
            "26711,0.23695286849422767,0.47313788894521086\n",
            "26712,0.895438545447382,0.9276646895560107\n",
            "26713,0.1695984580981741,0.6749875268285874\n",
            "26714,0.1263184827056361,0.12358856894310274\n",
            "26715,0.05520718863258898,0.10436170509975856\n"
          ],
          "name": "stdout"
        }
      ]
    }
  ]
}